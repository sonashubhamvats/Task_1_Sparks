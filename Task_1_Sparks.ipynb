{
  "nbformat": 4,
  "nbformat_minor": 0,
  "metadata": {
    "colab": {
      "name": "Task-1-Sparks.ipynb",
      "provenance": [],
      "collapsed_sections": []
    },
    "kernelspec": {
      "name": "python3",
      "display_name": "Python 3"
    },
    "language_info": {
      "name": "python"
    }
  },
  "cells": [
    {
      "cell_type": "markdown",
      "metadata": {
        "id": "ZTsyxtMF4vo7"
      },
      "source": [
        "# **Simple Linear Regression**\n",
        "\n",
        "In this task we will predict the percentage of marks that a student is expected to score based upon the number of hours they studied.This is a simple regression task with only two variables."
      ]
    },
    {
      "cell_type": "markdown",
      "metadata": {
        "id": "4khvN9jQ5QJT"
      },
      "source": [
        "###**Importing all the necessary libraries**:\n",
        "****"
      ]
    },
    {
      "cell_type": "code",
      "metadata": {
        "id": "8rZoSuc55gui"
      },
      "source": [
        "!pip install -q sklearn"
      ],
      "execution_count": 26,
      "outputs": []
    },
    {
      "cell_type": "code",
      "metadata": {
        "id": "rghuhJbp5pt7"
      },
      "source": [
        "import numpy as np\n",
        "import pandas as pd\n",
        "import matplotlib.pyplot as plt\n",
        "import sklearn\n",
        "from sklearn import linear_model\n",
        "from sklearn.metrics import accuracy_score\n",
        "from sklearn.utils import shuffle\n",
        "import tensorflow as tf"
      ],
      "execution_count": 27,
      "outputs": []
    },
    {
      "cell_type": "markdown",
      "metadata": {
        "id": "ytxaP_yk5r_L"
      },
      "source": [
        "###**Loading the dataset:**\n",
        "****"
      ]
    },
    {
      "cell_type": "code",
      "metadata": {
        "colab": {
          "base_uri": "https://localhost:8080/"
        },
        "id": "BquNCr2454Or",
        "outputId": "bed6e406-9121-449f-8d1a-554b338017d6"
      },
      "source": [
        "# Load dataset.\n",
        "dataTrain = pd.read_csv('https://raw.githubusercontent.com/AdiPersonalWorks/Random/master/student_scores%20-%20student_scores.csv') # training data\n",
        "print(\"The data imported- \\n\",dataTrain)"
      ],
      "execution_count": 28,
      "outputs": [
        {
          "output_type": "stream",
          "text": [
            "The data imported- \n",
            "     Hours  Scores\n",
            "0     2.5      21\n",
            "1     5.1      47\n",
            "2     3.2      27\n",
            "3     8.5      75\n",
            "4     3.5      30\n",
            "5     1.5      20\n",
            "6     9.2      88\n",
            "7     5.5      60\n",
            "8     8.3      81\n",
            "9     2.7      25\n",
            "10    7.7      85\n",
            "11    5.9      62\n",
            "12    4.5      41\n",
            "13    3.3      42\n",
            "14    1.1      17\n",
            "15    8.9      95\n",
            "16    2.5      30\n",
            "17    1.9      24\n",
            "18    6.1      67\n",
            "19    7.4      69\n",
            "20    2.7      30\n",
            "21    4.8      54\n",
            "22    3.8      35\n",
            "23    6.9      76\n",
            "24    7.8      86\n"
          ],
          "name": "stdout"
        }
      ]
    },
    {
      "cell_type": "markdown",
      "metadata": {
        "id": "4UL3Wgvs58Kr"
      },
      "source": [
        "###**Plotting the dataset to visualize the data provided:**\n",
        "****"
      ]
    },
    {
      "cell_type": "code",
      "metadata": {
        "colab": {
          "base_uri": "https://localhost:8080/",
          "height": 295
        },
        "id": "HjeVgkIt6aOi",
        "outputId": "e1626155-b415-43b2-fa60-b1007dd5c760"
      },
      "source": [
        "#plot the dataset\n",
        "plt.plot(dataTrain[\"Hours\"],dataTrain[\"Scores\"], 'ro')\n",
        "plt.title(\"Hours vs Scores\")\n",
        "plt.xlabel(\"Hours\")\n",
        "plt.ylabel(\"Scores\")\n",
        "plt.axis([0, 15, 0, 100])\n",
        "plt.show()"
      ],
      "execution_count": 29,
      "outputs": [
        {
          "output_type": "display_data",
          "data": {
            "image/png": "[encoded data removed]",
            "text/plain": [
              "<Figure size 432x288 with 1 Axes>"
            ]
          },
          "metadata": {
            "tags": [],
            "needs_background": "light"
          }
        }
      ]
    },
    {
      "cell_type": "markdown",
      "metadata": {
        "id": "fzUEUGsI6dti"
      },
      "source": [
        "###**Preparing the data:**\n",
        "****\n",
        "Getting the hours and the score in separate variables- \n"
      ]
    },
    {
      "cell_type": "code",
      "metadata": {
        "colab": {
          "base_uri": "https://localhost:8080/"
        },
        "id": "a-3SJgpZ6tw8",
        "outputId": "0c4d9411-7fd2-4b8d-e235-82e7d323b964"
      },
      "source": [
        "#getting the scores and hours in separate variables\n",
        "hours=dataTrain.Hours.to_list()\n",
        "scores=dataTrain.Scores.to_list()\n",
        "print(hours)\n",
        "print(scores)"
      ],
      "execution_count": 30,
      "outputs": [
        {
          "output_type": "stream",
          "text": [
            "[2.5, 5.1, 3.2, 8.5, 3.5, 1.5, 9.2, 5.5, 8.3, 2.7, 7.7, 5.9, 4.5, 3.3, 1.1, 8.9, 2.5, 1.9, 6.1, 7.4, 2.7, 4.8, 3.8, 6.9, 7.8]\n",
            "[21, 47, 27, 75, 30, 20, 88, 60, 81, 25, 85, 62, 41, 42, 17, 95, 30, 24, 67, 69, 30, 54, 35, 76, 86]\n"
          ],
          "name": "stdout"
        }
      ]
    },
    {
      "cell_type": "markdown",
      "metadata": {
        "id": "P0d5KOuT6_EM"
      },
      "source": [
        "Splitting the data set into training and evaluation sets-\n",
        "(We do this using the sklearn.trains_test_split method)"
      ]
    },
    {
      "cell_type": "code",
      "metadata": {
        "id": "KMloBae07L1K"
      },
      "source": [
        "#splitting the data set into training and evaluating sets\n",
        "h_train,h_test,s_train,s_test=sklearn.model_selection.train_test_split(hours,scores,test_size=0.1)\n",
        "h_train=np.array(h_train).reshape(-1,1)\n",
        "h_test=np.array(h_test).reshape(-1,1)"
      ],
      "execution_count": 31,
      "outputs": []
    },
    {
      "cell_type": "markdown",
      "metadata": {
        "id": "tDiGdFyv7gYa"
      },
      "source": [
        "###**Training the model:**\n",
        "****"
      ]
    },
    {
      "cell_type": "markdown",
      "metadata": {
        "id": "9DyYAu2k7mRK"
      },
      "source": [
        "Now we train the model in accordance to a linear regressive environment-"
      ]
    },
    {
      "cell_type": "code",
      "metadata": {
        "colab": {
          "base_uri": "https://localhost:8080/"
        },
        "id": "6veadcUa76OC",
        "outputId": "303ecd3e-1e78-452b-97cf-4d58a40ae7a3"
      },
      "source": [
        "#training the model\n",
        "linear=linear_model.LinearRegression()\n",
        "linear.fit(h_train,s_train)"
      ],
      "execution_count": 32,
      "outputs": [
        {
          "output_type": "execute_result",
          "data": {
            "text/plain": [
              "LinearRegression(copy_X=True, fit_intercept=True, n_jobs=None, normalize=False)"
            ]
          },
          "metadata": {
            "tags": []
          },
          "execution_count": 32
        }
      ]
    },
    {
      "cell_type": "markdown",
      "metadata": {
        "id": "GKGXltkz7-bC"
      },
      "source": [
        "After training the model , lets visualize what we have achieved through the process- "
      ]
    },
    {
      "cell_type": "code",
      "metadata": {
        "colab": {
          "base_uri": "https://localhost:8080/",
          "height": 265
        },
        "id": "J0yZhsh88MvL",
        "outputId": "be920f45-70bf-49dc-e7aa-1f991a08a4ee"
      },
      "source": [
        "#plotting the regression line\n",
        "line=linear.coef_*dataTrain[\"Hours\"]+linear.intercept_\n",
        "plt.scatter(dataTrain[\"Hours\"], dataTrain[\"Scores\"])\n",
        "plt.plot(dataTrain[\"Hours\"], line);\n",
        "plt.show()"
      ],
      "execution_count": 33,
      "outputs": [
        {
          "output_type": "display_data",
          "data": {
            "image/png": "[encoded data removed]",
            "text/plain": [
              "<Figure size 432x288 with 1 Axes>"
            ]
          },
          "metadata": {
            "tags": [],
            "needs_background": "light"
          }
        }
      ]
    },
    {
      "cell_type": "markdown",
      "metadata": {
        "id": "S1IwPG2y8iYw"
      },
      "source": [
        "The coefficients of the above line-"
      ]
    },
    {
      "cell_type": "code",
      "metadata": {
        "colab": {
          "base_uri": "https://localhost:8080/"
        },
        "id": "6N-TdcG18qjI",
        "outputId": "cb50fec3-a918-4484-cc09-cd825eeae828"
      },
      "source": [
        "#getting the co efficients of the best fit line \n",
        "print(\"Coeff: \",linear.coef_)\n",
        "print(\"\\nIntercept: \",linear.intercept_)"
      ],
      "execution_count": 34,
      "outputs": [
        {
          "output_type": "stream",
          "text": [
            "Coeff:  [9.63705048]\n",
            "\n",
            "Intercept:  3.627069367801191\n"
          ],
          "name": "stdout"
        }
      ]
    },
    {
      "cell_type": "markdown",
      "metadata": {
        "id": "I4jBKmpZ8tfq"
      },
      "source": [
        "###**Making predictions:**\n",
        "****"
      ]
    },
    {
      "cell_type": "markdown",
      "metadata": {
        "id": "bGTKFZpb9BJC"
      },
      "source": [
        "Now that we are done with training the model , lets evaluate our model by making predictions using the evaluation dataset provided-"
      ]
    },
    {
      "cell_type": "code",
      "metadata": {
        "colab": {
          "base_uri": "https://localhost:8080/"
        },
        "id": "4eqylXRL9OPy",
        "outputId": "14655714-6513-49e1-a7fe-90e8de81fccf"
      },
      "source": [
        "#testing dataset\n",
        "print(h_test)"
      ],
      "execution_count": 35,
      "outputs": [
        {
          "output_type": "stream",
          "text": [
            "[[5.9]\n",
            " [3.8]\n",
            " [3.2]]\n"
          ],
          "name": "stdout"
        }
      ]
    },
    {
      "cell_type": "markdown",
      "metadata": {
        "id": "senvlwKi9Tb6"
      },
      "source": [
        "Comparing our predictions-"
      ]
    },
    {
      "cell_type": "code",
      "metadata": {
        "colab": {
          "base_uri": "https://localhost:8080/"
        },
        "id": "_m2Ylr9_9b_C",
        "outputId": "140e6f9e-f648-4e88-d0ae-9ff126fcb2d9"
      },
      "source": [
        "#comparing the predictions \n",
        "s_predict=linear.predict(h_test)\n",
        "df = pd.DataFrame({'Actual': s_test, 'Predicted': s_predict})  \n",
        "print(df)"
      ],
      "execution_count": 36,
      "outputs": [
        {
          "output_type": "stream",
          "text": [
            "   Actual  Predicted\n",
            "0      62  60.485667\n",
            "1      35  40.247861\n",
            "2      27  34.465631\n"
          ],
          "name": "stdout"
        }
      ]
    },
    {
      "cell_type": "markdown",
      "metadata": {
        "id": "K4D7hM7p9gJ6"
      },
      "source": [
        "Making the prediction for 9.25 hrs a day as specified in the task-"
      ]
    },
    {
      "cell_type": "code",
      "metadata": {
        "colab": {
          "base_uri": "https://localhost:8080/"
        },
        "id": "ZSMXFPgw9mii",
        "outputId": "1e42e9e3-6a48-4c6e-8a90-df799f40e6eb"
      },
      "source": [
        "#getting the prediction for 9.25 hrs a day\n",
        "prediction=linear.predict([[9.25]])\n",
        "print(\"\\nThe predicted score with 9.25 hrs a day is - \",prediction[0])"
      ],
      "execution_count": 37,
      "outputs": [
        {
          "output_type": "stream",
          "text": [
            "\n",
            "The predicted score with 9.25 hrs a day is -  92.76978630421095\n"
          ],
          "name": "stdout"
        }
      ]
    },
    {
      "cell_type": "markdown",
      "metadata": {
        "id": "mWKFq89A9sYC"
      },
      "source": [
        "###**Evaluating the accuracy of the model:**\n",
        "****"
      ]
    },
    {
      "cell_type": "markdown",
      "metadata": {
        "id": "xIy9iryL9yKJ"
      },
      "source": [
        "We evaluate the accuracy of the model using the evaluation datasets provided-"
      ]
    },
    {
      "cell_type": "code",
      "metadata": {
        "colab": {
          "base_uri": "https://localhost:8080/"
        },
        "id": "YWhUr71g9_2i",
        "outputId": "ec542581-016f-4217-b684-e3b9621aa8f4"
      },
      "source": [
        "#evaluating the accuracy of the model using the evaluation dataset by finding the variance(1 is the perfect dataset)\n",
        "print('Variance score: %.2f' % linear.score(h_test, s_test))"
      ],
      "execution_count": 38,
      "outputs": [
        {
          "output_type": "stream",
          "text": [
            "Variance score: 0.87\n"
          ],
          "name": "stdout"
        }
      ]
    }
  ]
}